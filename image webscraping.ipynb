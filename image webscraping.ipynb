{
 "cells": [
  {
   "cell_type": "code",
   "execution_count": 3,
   "metadata": {},
   "outputs": [
    {
     "name": "stderr",
     "output_type": "stream",
     "text": [
      "/var/folders/24/r916hgx50g90q80qms97d43w0000gn/T/ipykernel_16489/968398379.py:14: DeprecationWarning: executable_path has been deprecated, please pass in a Service object\n",
      "  wd = webdriver.Chrome(path)\n"
     ]
    }
   ],
   "source": [
    "from selenium import webdriver\n",
    "from selenium.webdriver.common.by import By\n",
    "import requests\n",
    "import io\n",
    "from PIL import Image\n",
    "import time\n",
    "\n",
    "import sys\n",
    "path = '/Users/macbookpro/Downloads/chromedriver'\n",
    "# path=sys.path.append(path)\n",
    "\n",
    "# PATH = \"C/Users/macbookpro/Downloads/chromedriver\"\n",
    "\n",
    "wd = webdriver.Chrome(path)\n"
   ]
  },
  {
   "cell_type": "code",
   "execution_count": 4,
   "metadata": {},
   "outputs": [
    {
     "name": "stdout",
     "output_type": "stream",
     "text": [
      "Found 1\n",
      "Found 2\n",
      "Found 3\n",
      "Found 4\n",
      "Success\n",
      "Success\n",
      "Success\n",
      "Success\n"
     ]
    }
   ],
   "source": [
    "\n",
    "def get_images_from_google(wd, delay, max_images):\n",
    "\tdef scroll_down(wd):\n",
    "\t\twd.execute_script(\"window.scrollTo(0, document.body.scrollHeight);\")\n",
    "\t\ttime.sleep(delay)\n",
    "\n",
    "\turl = \"https://www.google.com/search?q=cats&tbm=isch&ved=2ahUKEwjykJ779tbzAhXhgnIEHSVQBksQ2-cCegQIABAA&oq=cats&gs_lcp=CgNpbWcQAzIHCAAQsQMQQzIHCAAQsQMQQzIECAAQQzIECAAQQzIECAAQQzIECAAQQzIECAAQQzIECAAQQzIECAAQQzIECAAQQzoHCCMQ7wMQJ1C_31NYvOJTYPbjU2gCcAB4AIABa4gBzQSSAQMzLjOYAQCgAQGqAQtnd3Mtd2l6LWltZ8ABAQ&sclient=img&ei=7vZuYfLhOeGFytMPpaCZ2AQ&bih=817&biw=1707&rlz=1C1CHBF_enCA918CA918\"\n",
    "\twd.get(url)\n",
    "\n",
    "\timage_urls = set()\n",
    "\tskips = 0\n",
    "\n",
    "\twhile len(image_urls) + skips < max_images:\n",
    "\t\tscroll_down(wd)\n",
    "\n",
    "\t\tthumbnails = wd.find_elements(By.CLASS_NAME, \"Q4LuWd\")\n",
    "\n",
    "\t\tfor img in thumbnails[len(image_urls) + skips:max_images]:\n",
    "\t\t\ttry:\n",
    "\t\t\t\timg.click()\n",
    "\t\t\t\ttime.sleep(delay)\n",
    "\t\t\texcept:\n",
    "\t\t\t\tcontinue\n",
    "\n",
    "\t\t\timages = wd.find_elements(By.CLASS_NAME, \"n3VNCb\")\n",
    "\t\t\tfor image in images:\n",
    "\t\t\t\tif image.get_attribute('src') in image_urls:\n",
    "\t\t\t\t\tmax_images += 1\n",
    "\t\t\t\t\tskips += 1\n",
    "\t\t\t\t\tbreak\n",
    "\n",
    "\t\t\t\tif image.get_attribute('src') and 'http' in image.get_attribute('src'):\n",
    "\t\t\t\t\timage_urls.add(image.get_attribute('src'))\n",
    "\t\t\t\t\tprint(f\"Found {len(image_urls)}\")\n",
    "\n",
    "\treturn image_urls\n",
    "\n",
    "\n",
    "def download_image(download_path, url, file_name):\n",
    "\ttry:\n",
    "\t\timage_content = requests.get(url).content\n",
    "\t\timage_file = io.BytesIO(image_content)\n",
    "\t\timage = Image.open(image_file)\n",
    "\t\tfile_path = download_path + file_name\n",
    "\n",
    "\t\twith open(file_path, \"wb\") as f:\n",
    "\t\t\timage.save(f, \"JPEG\")\n",
    "\n",
    "\t\tprint(\"Success\")\n",
    "\texcept Exception as e:\n",
    "\t\tprint('FAILED -', e)\n",
    "\n",
    "urls = get_images_from_google(wd, 1, 4)\n",
    "\n",
    "for i, url in enumerate(urls):\n",
    "\tdownload_image(\"imgs/\", url, str(i) + \".jpg\")\n",
    "\n",
    "wd.quit()"
   ]
  }
 ],
 "metadata": {
  "interpreter": {
   "hash": "aee8b7b246df8f9039afb4144a1f6fd8d2ca17a180786b69acc140d282b71a49"
  },
  "kernelspec": {
   "display_name": "Python 3.9.7 64-bit",
   "language": "python",
   "name": "python3"
  },
  "language_info": {
   "codemirror_mode": {
    "name": "ipython",
    "version": 3
   },
   "file_extension": ".py",
   "mimetype": "text/x-python",
   "name": "python",
   "nbconvert_exporter": "python",
   "pygments_lexer": "ipython3",
   "version": "3.9.7"
  },
  "orig_nbformat": 4
 },
 "nbformat": 4,
 "nbformat_minor": 2
}
